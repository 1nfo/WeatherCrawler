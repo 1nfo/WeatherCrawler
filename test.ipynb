{
 "cells": [
  {
   "cell_type": "code",
   "execution_count": 107,
   "metadata": {
    "collapsed": false
   },
   "outputs": [],
   "source": [
    "import json,requests,sys\n",
    "\n",
    "class CityList:\n",
    "    def __init__(self,path):\n",
    "        self.data = {}\n",
    "        with open(path) as f:\n",
    "            for i in f:\n",
    "                d = json.loads(i)\n",
    "                self.data[d[\"_id\"]]=d\n",
    "        self.keys = self.data.keys()\n",
    "    \n",
    "    def __getitem__(self,index):\n",
    "        if(index in self.keys): return self.data[index]\n",
    "        return self.data[self.keys[index]]\n",
    "    \n",
    "    def __iter__(self):\n",
    "        return self.data.__iter__()\n",
    "\n",
    "class WeatherCrawler:\n",
    "    def __init__(self,url,APPID):\n",
    "        self.url=url\n",
    "        self.APPID = APPID\n",
    "        self.results = []\n",
    "        \n",
    "    def update_visited(self,l):\n",
    "        self.visited = l\n",
    "    \n",
    "    def request(self,ID):\n",
    "        return requests.request(\"GET\",self.url+(\"?id=%s&APPID=%s\" % (ID,self.APPID)))\n",
    "    \n",
    "    def execute(self,cityIDList,verbose=False):\n",
    "        for cityID in cityIDList:\n",
    "            if cityID in self.visited:continue\n",
    "            result = self.request(cityID)\n",
    "            self.visited.append(cityID)\n",
    "            if(result.status_code<400):\n",
    "                if verbose:print \"%d/%d  -- city:%s requested sucessfully.\\r\"%(\n",
    "                        len(self.visited),len(cityIDList),cityID)\n",
    "                self.results.append(json.loads(result.content))\n",
    "            else:\n",
    "                if verbose:print \"city:%s failed to access\"%cityID\n",
    "                return \n",
    "            sys.stdout.flush()\n",
    "            \n",
    "class ResultManager:\n",
    "    def __init__(self,path):\n",
    "        self.path=path\n",
    "        self.res=[]\n",
    "    \n",
    "    def dump(self):    \n",
    "        with open(self.path,\"wb\") as f:\n",
    "            f.write(json.dumps(self.res))\n",
    "\n",
    "    def loadPrev(self):\n",
    "        with open(self.path) as f:\n",
    "            self.res = json.loads(f.next())"
   ]
  },
  {
   "cell_type": "code",
   "execution_count": 108,
   "metadata": {
    "collapsed": false
   },
   "outputs": [
    {
     "name": "stdout",
     "output_type": "stream",
     "text": [
      "2781/19972  -- city:4854240 requested sucessfully.\n",
      "2782/19972  -- city:4657633 requested sucessfully.\n",
      "2783/19972  -- city:4100581 requested sucessfully.\n",
      "2784/19972  -- city:4461030 requested sucessfully.\n",
      "2785/19972  -- city:4134993 requested sucessfully.\n",
      "2786/19972  -- city:5345768 requested sucessfully.\n",
      "2787/19972  -- city:5378538 requested sucessfully.\n",
      "2788/19972  -- city:4166124 requested sucessfully.\n",
      "2789/19972  -- city:4069458 requested sucessfully.\n",
      "2790/19972  -- city:4526576 requested sucessfully.\n",
      "2791/19972  -- city:4592114 requested sucessfully.\n",
      "2792/19972  -- city:4986963 requested sucessfully.\n",
      "2793/19972  -- city:5181940 requested sucessfully.\n",
      "2794/19972  -- city:4919797 requested sucessfully.\n",
      "2795/19972  -- city:4803372 requested sucessfully.\n",
      "2796/19972  -- city:4362743 requested sucessfully.\n",
      "2797/19972  -- city:5116408 requested sucessfully.\n",
      "2798/19972  -- city:5181946 requested sucessfully.\n",
      "2799/19972  -- city:4690428 requested sucessfully.\n",
      "2800/19972  -- city:5181950 requested sucessfully.\n",
      "2801/19972  -- city:4067840 requested sucessfully.\n",
      "2802/19972  -- city:5825424 requested sucessfully.\n",
      "2803/19972  -- city:5352875 requested sucessfully.\n",
      "2804/19972  -- city:4755972 requested sucessfully.\n",
      "2805/19972  -- city:4264454 requested sucessfully.\n",
      "2806/19972  -- city:4489985 requested sucessfully.\n",
      "2807/19972  -- city:4755976 requested sucessfully.\n",
      "2808/19972  -- city:4189612 requested sucessfully.\n",
      "2809/19972  -- city:4166154 requested sucessfully.\n",
      "2810/19972  -- city:5216343 requested sucessfully.\n",
      "2811/19972  -- city:4919820 requested sucessfully.\n",
      "2812/19972  -- city:5041581 requested sucessfully.\n",
      "2813/19972  -- city:5555097 requested sucessfully.\n",
      "2814/19972  -- city:5380184 requested sucessfully.\n",
      "2815/19972  -- city:4919826 requested sucessfully.\n",
      "2816/19972  -- city:4297236 requested sucessfully.\n",
      "2817/19972  -- city:5149205 requested sucessfully.\n",
      "2818/19972  -- city:4067862 requested sucessfully.\n",
      "2819/19972  -- city:4315225 requested sucessfully.\n",
      "2820/19972  -- city:5083673 requested sucessfully.\n",
      "2821/19972  -- city:4624922 requested sucessfully.\n",
      "2822/19972  -- city:4058543 requested sucessfully.\n",
      "2823/19972  -- city:5280285 requested sucessfully.\n",
      "2824/19972  -- city:5837342 requested sucessfully.\n",
      "2825/19972  -- city:7261625 requested sucessfully.\n",
      "2826/19972  -- city:5411363 requested sucessfully.\n",
      "2827/19972  -- city:4685467 requested sucessfully.\n",
      "2828/19972  -- city:4064006 requested sucessfully.\n",
      "2829/19972  -- city:5149222 requested sucessfully.\n",
      "2830/19972  -- city:5167196 requested sucessfully.\n",
      "2831/19972  -- city:5739051 requested sucessfully.\n",
      "2832/19972  -- city:4624940 requested sucessfully.\n",
      "2833/19972  -- city:4231725 requested sucessfully.\n",
      "2834/19972  -- city:5823516 requested sucessfully.\n",
      "2835/19972  -- city:4919857 requested sucessfully.\n",
      "2836/19972  -- city:5771826 requested sucessfully.\n",
      "2837/19972  -- city:4166195 requested sucessfully.\n",
      "2838/19972  -- city:5345844 requested sucessfully.\n",
      "2839/19972  -- city:4952629 requested sucessfully.\n",
      "2840/19972  -- city:5870134 requested sucessfully.\n",
      "2841/19972  -- city:5214775 requested sucessfully.\n",
      "2842/19972  -- city:5378617 requested sucessfully.\n",
      "2843/19972  -- city:5247547 requested sucessfully.\n",
      "2844/19972  -- city:4198972 requested sucessfully.\n",
      "2845/19972  -- city:4166208 requested sucessfully.\n",
      "2846/19972  -- city:5837377 requested sucessfully.\n",
      "2847/19972  -- city:5178123 requested sucessfully.\n",
      "2848/19972  -- city:5345860 requested sucessfully.\n",
      "2849/19972  -- city:5149253 requested sucessfully.\n",
      "2850/19972  -- city:5305230 requested sucessfully.\n",
      "2851/19972  -- city:4559431 requested sucessfully.\n",
      "2852/19972  -- city:5149257 requested sucessfully.\n",
      "2853/19972  -- city:4690506 requested sucessfully.\n",
      "2854/19972  -- city:4353463 requested sucessfully.\n",
      "2855/19972  -- city:5748229 requested sucessfully.\n",
      "2856/19972  -- city:4166222 requested sucessfully.\n",
      "2857/19972  -- city:5431423 requested sucessfully.\n",
      "2858/19972  -- city:5116497 requested sucessfully.\n",
      "2859/19972  -- city:5116500 requested sucessfully.\n",
      "2860/19972  -- city:4362837 requested sucessfully.\n",
      "2861/19972  -- city:4788822 requested sucessfully.\n",
      "2862/19972  -- city:4067927 requested sucessfully.\n",
      "2863/19972  -- city:4166232 requested sucessfully.\n",
      "2864/19972  -- city:4166233 requested sucessfully.\n",
      "2865/19972  -- city:4895027 requested sucessfully.\n",
      "2866/19972  -- city:4264540 requested sucessfully.\n",
      "2867/19972  -- city:5815599 requested sucessfully.\n",
      "2868/19972  -- city:4461150 requested sucessfully.\n",
      "2869/19972  -- city:5280351 requested sucessfully.\n",
      "2870/19972  -- city:5116512 requested sucessfully.\n",
      "2871/19972  -- city:4887137 requested sucessfully.\n",
      "2872/19972  -- city:5771875 requested sucessfully.\n",
      "2873/19972  -- city:4297318 requested sucessfully.\n",
      "2874/19972  -- city:4985530 requested sucessfully.\n",
      "2875/19972  -- city:4330088 requested sucessfully.\n",
      "2876/19972  -- city:5782055 requested sucessfully.\n",
      "2877/19972  -- city:4231786 requested sucessfully.\n"
     ]
    },
    {
     "ename": "ConnectionError",
     "evalue": "('Connection aborted.', error(54, 'Connection reset by peer'))",
     "output_type": "error",
     "traceback": [
      "\u001b[0;31m---------------------------------------------------------------------------\u001b[0m",
      "\u001b[0;31mConnectionError\u001b[0m                           Traceback (most recent call last)",
      "\u001b[0;32m<ipython-input-108-bb75eb46a537>\u001b[0m in \u001b[0;36m<module>\u001b[0;34m()\u001b[0m\n\u001b[1;32m     11\u001b[0m \u001b[0mresMgr\u001b[0m\u001b[0;34m.\u001b[0m\u001b[0mloadPrev\u001b[0m\u001b[0;34m(\u001b[0m\u001b[0;34m)\u001b[0m\u001b[0;34m\u001b[0m\u001b[0m\n\u001b[1;32m     12\u001b[0m \u001b[0mcrawler\u001b[0m\u001b[0;34m.\u001b[0m\u001b[0mupdate_visited\u001b[0m\u001b[0;34m(\u001b[0m\u001b[0;34m[\u001b[0m\u001b[0md\u001b[0m\u001b[0;34m[\u001b[0m\u001b[0;34m\"id\"\u001b[0m\u001b[0;34m]\u001b[0m \u001b[0;32mfor\u001b[0m \u001b[0md\u001b[0m \u001b[0;32min\u001b[0m \u001b[0mresMgr\u001b[0m\u001b[0;34m.\u001b[0m\u001b[0mres\u001b[0m\u001b[0;34m]\u001b[0m\u001b[0;34m)\u001b[0m\u001b[0;34m\u001b[0m\u001b[0m\n\u001b[0;32m---> 13\u001b[0;31m \u001b[0mcrawler\u001b[0m\u001b[0;34m.\u001b[0m\u001b[0mexecute\u001b[0m\u001b[0;34m(\u001b[0m\u001b[0mcityList\u001b[0m\u001b[0;34m.\u001b[0m\u001b[0mkeys\u001b[0m\u001b[0;34m,\u001b[0m\u001b[0mTrue\u001b[0m\u001b[0;34m)\u001b[0m\u001b[0;34m\u001b[0m\u001b[0m\n\u001b[0m\u001b[1;32m     14\u001b[0m \u001b[0mresMgr\u001b[0m\u001b[0;34m.\u001b[0m\u001b[0mres\u001b[0m\u001b[0;34m+=\u001b[0m\u001b[0mcrawler\u001b[0m\u001b[0;34m.\u001b[0m\u001b[0mresults\u001b[0m\u001b[0;34m\u001b[0m\u001b[0m\n\u001b[1;32m     15\u001b[0m \u001b[0mresMgr\u001b[0m\u001b[0;34m.\u001b[0m\u001b[0mdump\u001b[0m\u001b[0;34m(\u001b[0m\u001b[0;34m)\u001b[0m\u001b[0;34m\u001b[0m\u001b[0m\n",
      "\u001b[0;32m<ipython-input-107-0c0ca6e18b76>\u001b[0m in \u001b[0;36mexecute\u001b[0;34m(self, cityIDList, verbose)\u001b[0m\n\u001b[1;32m     32\u001b[0m         \u001b[0;32mfor\u001b[0m \u001b[0mcityID\u001b[0m \u001b[0;32min\u001b[0m \u001b[0mcityIDList\u001b[0m\u001b[0;34m:\u001b[0m\u001b[0;34m\u001b[0m\u001b[0m\n\u001b[1;32m     33\u001b[0m             \u001b[0;32mif\u001b[0m \u001b[0mcityID\u001b[0m \u001b[0;32min\u001b[0m \u001b[0mself\u001b[0m\u001b[0;34m.\u001b[0m\u001b[0mvisited\u001b[0m\u001b[0;34m:\u001b[0m\u001b[0;32mcontinue\u001b[0m\u001b[0;34m\u001b[0m\u001b[0m\n\u001b[0;32m---> 34\u001b[0;31m             \u001b[0mresult\u001b[0m \u001b[0;34m=\u001b[0m \u001b[0mself\u001b[0m\u001b[0;34m.\u001b[0m\u001b[0mrequest\u001b[0m\u001b[0;34m(\u001b[0m\u001b[0mcityID\u001b[0m\u001b[0;34m)\u001b[0m\u001b[0;34m\u001b[0m\u001b[0m\n\u001b[0m\u001b[1;32m     35\u001b[0m             \u001b[0mself\u001b[0m\u001b[0;34m.\u001b[0m\u001b[0mvisited\u001b[0m\u001b[0;34m.\u001b[0m\u001b[0mappend\u001b[0m\u001b[0;34m(\u001b[0m\u001b[0mcityID\u001b[0m\u001b[0;34m)\u001b[0m\u001b[0;34m\u001b[0m\u001b[0m\n\u001b[1;32m     36\u001b[0m             \u001b[0;32mif\u001b[0m\u001b[0;34m(\u001b[0m\u001b[0mresult\u001b[0m\u001b[0;34m.\u001b[0m\u001b[0mstatus_code\u001b[0m\u001b[0;34m<\u001b[0m\u001b[0;36m400\u001b[0m\u001b[0;34m)\u001b[0m\u001b[0;34m:\u001b[0m\u001b[0;34m\u001b[0m\u001b[0m\n",
      "\u001b[0;32m<ipython-input-107-0c0ca6e18b76>\u001b[0m in \u001b[0;36mrequest\u001b[0;34m(self, ID)\u001b[0m\n\u001b[1;32m     27\u001b[0m \u001b[0;34m\u001b[0m\u001b[0m\n\u001b[1;32m     28\u001b[0m     \u001b[0;32mdef\u001b[0m \u001b[0mrequest\u001b[0m\u001b[0;34m(\u001b[0m\u001b[0mself\u001b[0m\u001b[0;34m,\u001b[0m\u001b[0mID\u001b[0m\u001b[0;34m)\u001b[0m\u001b[0;34m:\u001b[0m\u001b[0;34m\u001b[0m\u001b[0m\n\u001b[0;32m---> 29\u001b[0;31m         \u001b[0;32mreturn\u001b[0m \u001b[0mrequests\u001b[0m\u001b[0;34m.\u001b[0m\u001b[0mrequest\u001b[0m\u001b[0;34m(\u001b[0m\u001b[0;34m\"GET\"\u001b[0m\u001b[0;34m,\u001b[0m\u001b[0mself\u001b[0m\u001b[0;34m.\u001b[0m\u001b[0murl\u001b[0m\u001b[0;34m+\u001b[0m\u001b[0;34m(\u001b[0m\u001b[0;34m\"?id=%s&APPID=%s\"\u001b[0m \u001b[0;34m%\u001b[0m \u001b[0;34m(\u001b[0m\u001b[0mID\u001b[0m\u001b[0;34m,\u001b[0m\u001b[0mself\u001b[0m\u001b[0;34m.\u001b[0m\u001b[0mAPPID\u001b[0m\u001b[0;34m)\u001b[0m\u001b[0;34m)\u001b[0m\u001b[0;34m)\u001b[0m\u001b[0;34m\u001b[0m\u001b[0m\n\u001b[0m\u001b[1;32m     30\u001b[0m \u001b[0;34m\u001b[0m\u001b[0m\n\u001b[1;32m     31\u001b[0m     \u001b[0;32mdef\u001b[0m \u001b[0mexecute\u001b[0m\u001b[0;34m(\u001b[0m\u001b[0mself\u001b[0m\u001b[0;34m,\u001b[0m\u001b[0mcityIDList\u001b[0m\u001b[0;34m,\u001b[0m\u001b[0mverbose\u001b[0m\u001b[0;34m=\u001b[0m\u001b[0mFalse\u001b[0m\u001b[0;34m)\u001b[0m\u001b[0;34m:\u001b[0m\u001b[0;34m\u001b[0m\u001b[0m\n",
      "\u001b[0;32m/Library/Python/2.7/site-packages/requests/api.pyc\u001b[0m in \u001b[0;36mrequest\u001b[0;34m(method, url, **kwargs)\u001b[0m\n\u001b[1;32m     51\u001b[0m     \u001b[0;31m# cases, and look like a memory leak in others.\u001b[0m\u001b[0;34m\u001b[0m\u001b[0;34m\u001b[0m\u001b[0m\n\u001b[1;32m     52\u001b[0m     \u001b[0;32mwith\u001b[0m \u001b[0msessions\u001b[0m\u001b[0;34m.\u001b[0m\u001b[0mSession\u001b[0m\u001b[0;34m(\u001b[0m\u001b[0;34m)\u001b[0m \u001b[0;32mas\u001b[0m \u001b[0msession\u001b[0m\u001b[0;34m:\u001b[0m\u001b[0;34m\u001b[0m\u001b[0m\n\u001b[0;32m---> 53\u001b[0;31m         \u001b[0;32mreturn\u001b[0m \u001b[0msession\u001b[0m\u001b[0;34m.\u001b[0m\u001b[0mrequest\u001b[0m\u001b[0;34m(\u001b[0m\u001b[0mmethod\u001b[0m\u001b[0;34m=\u001b[0m\u001b[0mmethod\u001b[0m\u001b[0;34m,\u001b[0m \u001b[0murl\u001b[0m\u001b[0;34m=\u001b[0m\u001b[0murl\u001b[0m\u001b[0;34m,\u001b[0m \u001b[0;34m**\u001b[0m\u001b[0mkwargs\u001b[0m\u001b[0;34m)\u001b[0m\u001b[0;34m\u001b[0m\u001b[0m\n\u001b[0m\u001b[1;32m     54\u001b[0m \u001b[0;34m\u001b[0m\u001b[0m\n\u001b[1;32m     55\u001b[0m \u001b[0;34m\u001b[0m\u001b[0m\n",
      "\u001b[0;32m/Library/Python/2.7/site-packages/requests/sessions.pyc\u001b[0m in \u001b[0;36mrequest\u001b[0;34m(self, method, url, params, data, headers, cookies, files, auth, timeout, allow_redirects, proxies, hooks, stream, verify, cert, json)\u001b[0m\n\u001b[1;32m    466\u001b[0m         }\n\u001b[1;32m    467\u001b[0m         \u001b[0msend_kwargs\u001b[0m\u001b[0;34m.\u001b[0m\u001b[0mupdate\u001b[0m\u001b[0;34m(\u001b[0m\u001b[0msettings\u001b[0m\u001b[0;34m)\u001b[0m\u001b[0;34m\u001b[0m\u001b[0m\n\u001b[0;32m--> 468\u001b[0;31m         \u001b[0mresp\u001b[0m \u001b[0;34m=\u001b[0m \u001b[0mself\u001b[0m\u001b[0;34m.\u001b[0m\u001b[0msend\u001b[0m\u001b[0;34m(\u001b[0m\u001b[0mprep\u001b[0m\u001b[0;34m,\u001b[0m \u001b[0;34m**\u001b[0m\u001b[0msend_kwargs\u001b[0m\u001b[0;34m)\u001b[0m\u001b[0;34m\u001b[0m\u001b[0m\n\u001b[0m\u001b[1;32m    469\u001b[0m \u001b[0;34m\u001b[0m\u001b[0m\n\u001b[1;32m    470\u001b[0m         \u001b[0;32mreturn\u001b[0m \u001b[0mresp\u001b[0m\u001b[0;34m\u001b[0m\u001b[0m\n",
      "\u001b[0;32m/Library/Python/2.7/site-packages/requests/sessions.pyc\u001b[0m in \u001b[0;36msend\u001b[0;34m(self, request, **kwargs)\u001b[0m\n\u001b[1;32m    574\u001b[0m \u001b[0;34m\u001b[0m\u001b[0m\n\u001b[1;32m    575\u001b[0m         \u001b[0;31m# Send the request\u001b[0m\u001b[0;34m\u001b[0m\u001b[0;34m\u001b[0m\u001b[0m\n\u001b[0;32m--> 576\u001b[0;31m         \u001b[0mr\u001b[0m \u001b[0;34m=\u001b[0m \u001b[0madapter\u001b[0m\u001b[0;34m.\u001b[0m\u001b[0msend\u001b[0m\u001b[0;34m(\u001b[0m\u001b[0mrequest\u001b[0m\u001b[0;34m,\u001b[0m \u001b[0;34m**\u001b[0m\u001b[0mkwargs\u001b[0m\u001b[0;34m)\u001b[0m\u001b[0;34m\u001b[0m\u001b[0m\n\u001b[0m\u001b[1;32m    577\u001b[0m \u001b[0;34m\u001b[0m\u001b[0m\n\u001b[1;32m    578\u001b[0m         \u001b[0;31m# Total elapsed time of the request (approximately)\u001b[0m\u001b[0;34m\u001b[0m\u001b[0;34m\u001b[0m\u001b[0m\n",
      "\u001b[0;32m/Library/Python/2.7/site-packages/requests/adapters.pyc\u001b[0m in \u001b[0;36msend\u001b[0;34m(self, request, stream, timeout, verify, cert, proxies)\u001b[0m\n\u001b[1;32m    424\u001b[0m \u001b[0;34m\u001b[0m\u001b[0m\n\u001b[1;32m    425\u001b[0m         \u001b[0;32mexcept\u001b[0m \u001b[0;34m(\u001b[0m\u001b[0mProtocolError\u001b[0m\u001b[0;34m,\u001b[0m \u001b[0msocket\u001b[0m\u001b[0;34m.\u001b[0m\u001b[0merror\u001b[0m\u001b[0;34m)\u001b[0m \u001b[0;32mas\u001b[0m \u001b[0merr\u001b[0m\u001b[0;34m:\u001b[0m\u001b[0;34m\u001b[0m\u001b[0m\n\u001b[0;32m--> 426\u001b[0;31m             \u001b[0;32mraise\u001b[0m \u001b[0mConnectionError\u001b[0m\u001b[0;34m(\u001b[0m\u001b[0merr\u001b[0m\u001b[0;34m,\u001b[0m \u001b[0mrequest\u001b[0m\u001b[0;34m=\u001b[0m\u001b[0mrequest\u001b[0m\u001b[0;34m)\u001b[0m\u001b[0;34m\u001b[0m\u001b[0m\n\u001b[0m\u001b[1;32m    427\u001b[0m \u001b[0;34m\u001b[0m\u001b[0m\n\u001b[1;32m    428\u001b[0m         \u001b[0;32mexcept\u001b[0m \u001b[0mMaxRetryError\u001b[0m \u001b[0;32mas\u001b[0m \u001b[0me\u001b[0m\u001b[0;34m:\u001b[0m\u001b[0;34m\u001b[0m\u001b[0m\n",
      "\u001b[0;31mConnectionError\u001b[0m: ('Connection aborted.', error(54, 'Connection reset by peer'))"
     ]
    }
   ],
   "source": [
    "APPIDs=[\"18e80022e6476ca764d7843e9f469246\"]\n",
    "url_main = \"http://api.openweathermap.org/data/2.5/weather\"\n",
    "cities_path = \"./city.list.us.json\"\n",
    "data_path = \"./data/scraledData\"\n",
    "\n",
    "\n",
    "resMgr = ResultManager(data_path)\n",
    "cityList = CityList(cities_path)\n",
    "crawler = WeatherCrawler(url_main,APPIDs[0])\n",
    "\n",
    "resMgr.loadPrev()\n",
    "crawler.update_visited([d[\"id\"] for d in resMgr.res])\n",
    "crawler.execute(cityList.keys,True)\n",
    "resMgr.res+=crawler.results\n",
    "resMgr.dump()"
   ]
  },
  {
   "cell_type": "code",
   "execution_count": 109,
   "metadata": {
    "collapsed": false
   },
   "outputs": [],
   "source": [
    "resMgr.res+=crawler.results\n",
    "resMgr.dump()"
   ]
  },
  {
   "cell_type": "code",
   "execution_count": 113,
   "metadata": {
    "collapsed": false
   },
   "outputs": [
    {
     "data": {
      "text/plain": [
       "3250"
      ]
     },
     "execution_count": 113,
     "metadata": {},
     "output_type": "execute_result"
    }
   ],
   "source": [
    "resMgr.loadPrev()\n",
    "len(resMgr.res)"
   ]
  },
  {
   "cell_type": "code",
   "execution_count": 114,
   "metadata": {
    "collapsed": false
   },
   "outputs": [
    {
     "data": {
      "text/plain": [
       "19972"
      ]
     },
     "execution_count": 114,
     "metadata": {},
     "output_type": "execute_result"
    }
   ],
   "source": [
    "cityList = CityList(cities_path)\n",
    "len(cityList.keys)"
   ]
  },
  {
   "cell_type": "code",
   "execution_count": 118,
   "metadata": {
    "collapsed": false
   },
   "outputs": [],
   "source": [
    "visited = [d[\"id\"] for d in resMgr.res]"
   ]
  },
  {
   "cell_type": "code",
   "execution_count": 119,
   "metadata": {
    "collapsed": false
   },
   "outputs": [
    {
     "data": {
      "text/plain": [
       "(3250, 3250)"
      ]
     },
     "execution_count": 119,
     "metadata": {},
     "output_type": "execute_result"
    }
   ],
   "source": [
    "len(visited),len(set(visited))"
   ]
  },
  {
   "cell_type": "code",
   "execution_count": null,
   "metadata": {
    "collapsed": true
   },
   "outputs": [],
   "source": []
  }
 ],
 "metadata": {
  "kernelspec": {
   "display_name": "Python 2",
   "language": "python",
   "name": "python2"
  },
  "language_info": {
   "codemirror_mode": {
    "name": "ipython",
    "version": 2
   },
   "file_extension": ".py",
   "mimetype": "text/x-python",
   "name": "python",
   "nbconvert_exporter": "python",
   "pygments_lexer": "ipython2",
   "version": "2.7.12"
  }
 },
 "nbformat": 4,
 "nbformat_minor": 0
}
